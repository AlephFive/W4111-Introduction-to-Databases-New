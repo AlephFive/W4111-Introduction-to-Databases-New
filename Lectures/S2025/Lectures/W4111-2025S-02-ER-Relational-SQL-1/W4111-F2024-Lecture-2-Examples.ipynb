{
 "cells": [
  {
   "cell_type": "markdown",
   "id": "0d34c0fa-5ba0-4a58-a71a-527e3bd490cd",
   "metadata": {},
   "source": [
    "# COMS W4111 -- Introduction to Databases, Fall 2024, Lecture 1 Examples"
   ]
  },
  {
   "cell_type": "markdown",
   "id": "da4bd4e2-1b1d-4ad4-b57f-6c4337096935",
   "metadata": {},
   "source": [
    "## Scenario"
   ]
  },
  {
   "cell_type": "markdown",
   "id": "0743b967-671a-411a-998e-8bd03b106296",
   "metadata": {},
   "source": [
    "I am building an application to help me manage my classes, especially the cloud computing courses.\n",
    "\n",
    "The primary complexities are:\n",
    "- Assigning and managing project teams and students on teams.\n",
    "- Tracking and commenting on project documents.\n",
    "- Meeting management.\n",
    "- ... ..."
   ]
  },
  {
   "cell_type": "markdown",
   "id": "3684da70-b5e0-4131-b53a-abc7915c0662",
   "metadata": {},
   "source": [
    "<img src=\"./course-management-application.jpg\" width=\"700px\">"
   ]
  },
  {
   "cell_type": "markdown",
   "id": "d46c9eea-a1a6-4041-b603-e161df66fe53",
   "metadata": {},
   "source": [
    "This is primarily an interaction application using multiple databases.\n",
    "\n",
    "\n",
    "There are some data engineering and analysis problems, however. For example, loading data from CourseWorks.\n",
    "\n",
    "\n",
    "CourseWorks has an API. I can write code to call the API and extract the information."
   ]
  },
  {
   "cell_type": "markdown",
   "id": "06b4a78f-bc83-4e0e-8dbc-979abb6d2968",
   "metadata": {},
   "source": [
    "## Some Setup"
   ]
  },
  {
   "cell_type": "code",
   "execution_count": null,
   "id": "f8ef7b93-6d20-4171-92da-371cf5f2f882",
   "metadata": {},
   "outputs": [],
   "source": []
  }
 ],
 "metadata": {
  "kernelspec": {
   "display_name": "Python 3 (ipykernel)",
   "language": "python",
   "name": "python3"
  },
  "language_info": {
   "codemirror_mode": {
    "name": "ipython",
    "version": 3
   },
   "file_extension": ".py",
   "mimetype": "text/x-python",
   "name": "python",
   "nbconvert_exporter": "python",
   "pygments_lexer": "ipython3",
   "version": "3.9.6"
  }
 },
 "nbformat": 4,
 "nbformat_minor": 5
}
